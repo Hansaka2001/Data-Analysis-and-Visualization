{
 "cells": [
  {
   "cell_type": "markdown",
   "metadata": {},
   "source": [
    "Handling Large Datasets in Pandas"
   ]
  },
  {
   "cell_type": "code",
   "execution_count": 2,
   "metadata": {},
   "outputs": [
    {
     "name": "stdout",
     "output_type": "stream",
     "text": [
      "Memory usage before conversion:\n",
      "16000128\n",
      "Memory usage after conversion:\n",
      "5000128\n"
     ]
    }
   ],
   "source": [
    "import pandas as pd\n",
    "\n",
    "# Define the size of the dataset\n",
    "num_rows = 1000000  # 1 million rows\n",
    "\n",
    "# Example DataFrame with inefficient datatypes\n",
    "data = {'A': [1, 2, 3, 4],\n",
    "        'B': [5.0, 6.0, 7.0, 8.0]}\n",
    "df = pd.DataFrame(data)\n",
    "\n",
    "# Replicate the DataFrame to create a larger dataset\n",
    "df_large = pd.concat([df] * (num_rows // len(df)), ignore_index=True)\n",
    "\n",
    "# Check memory usage before conversion\n",
    "print(\"Memory usage before conversion:\")\n",
    "print(df_large.memory_usage().sum())\n",
    "\n",
    "# Convert to more memory-efficient datatypes\n",
    "df_large['A'] = pd.to_numeric(df_large['A'], downcast='integer')\n",
    "df_large['B'] = pd.to_numeric(df_large['B'], downcast='float')\n",
    "\n",
    "# Check memory usage after conversion\n",
    "print(\"Memory usage after conversion:\")\n",
    "print(df_large.memory_usage().sum())\n"
   ]
  },
  {
   "cell_type": "code",
   "execution_count": 3,
   "metadata": {},
   "outputs": [
    {
     "name": "stdout",
     "output_type": "stream",
     "text": [
      "Specific Columns of the DataFrame:\n",
      "   A  D\n",
      "0  0  0\n",
      "1  1  1\n",
      "2  2  2\n",
      "3  3  3\n",
      "4  4  4\n"
     ]
    }
   ],
   "source": [
    "import pandas as pd\n",
    "\n",
    "data = { 'A': range(1000),\n",
    "        'B': range(1000),\n",
    "        'C': range(1000),\n",
    "        'D': range(1000),\n",
    "        }\n",
    "\n",
    "df = pd.DataFrame(data)\n",
    "df_subset = df[['A', 'D']]\n",
    "print('Specific Columns of the DataFrame:')\n",
    "print(df_subset.head())\n"
   ]
  },
  {
   "cell_type": "code",
   "execution_count": 1,
   "metadata": {},
   "outputs": [
    {
     "name": "stdout",
     "output_type": "stream",
     "text": [
      "       A    B    C    D\n",
      "521  521  521  521  521\n",
      "737  737  737  737  737\n",
      "740  740  740  740  740\n",
      "660  660  660  660  660\n",
      "411  411  411  411  411\n"
     ]
    }
   ],
   "source": [
    "import pandas as pd \n",
    "\n",
    "data = { 'A': range(1000),\n",
    "        'B': range(1000),\n",
    "        'C': range(1000),\n",
    "        'D': range(1000),\n",
    "        }\n",
    "\n",
    "df = pd.DataFrame(data)\n",
    "df_sample = df.sample(frac=0.1, random_state=42)\n",
    "print(df_sample.head())\n"
   ]
  },
  {
   "cell_type": "code",
   "execution_count": 2,
   "metadata": {},
   "outputs": [
    {
     "name": "stdout",
     "output_type": "stream",
     "text": [
      "(0,        A    B\n",
      "0      0    0\n",
      "1      1    1\n",
      "2      2    2\n",
      "3      3    3\n",
      "4      4    4\n",
      "..   ...  ...\n",
      "995  995  995\n",
      "996  996  996\n",
      "997  997  997\n",
      "998  998  998\n",
      "999  999  999\n",
      "\n",
      "[1000 rows x 2 columns])\n",
      "(1,          A     B\n",
      "1000  1000  1000\n",
      "1001  1001  1001\n",
      "1002  1002  1002\n",
      "1003  1003  1003\n",
      "1004  1004  1004\n",
      "...    ...   ...\n",
      "1995  1995  1995\n",
      "1996  1996  1996\n",
      "1997  1997  1997\n",
      "1998  1998  1998\n",
      "1999  1999  1999\n",
      "\n",
      "[1000 rows x 2 columns])\n",
      "(2,          A     B\n",
      "2000  2000  2000\n",
      "2001  2001  2001\n",
      "2002  2002  2002\n",
      "2003  2003  2003\n",
      "2004  2004  2004\n",
      "...    ...   ...\n",
      "2995  2995  2995\n",
      "2996  2996  2996\n",
      "2997  2997  2997\n",
      "2998  2998  2998\n",
      "2999  2999  2999\n",
      "\n",
      "[1000 rows x 2 columns])\n",
      "(3,          A     B\n",
      "3000  3000  3000\n",
      "3001  3001  3001\n",
      "3002  3002  3002\n",
      "3003  3003  3003\n",
      "3004  3004  3004\n",
      "...    ...   ...\n",
      "3995  3995  3995\n",
      "3996  3996  3996\n",
      "3997  3997  3997\n",
      "3998  3998  3998\n",
      "3999  3999  3999\n",
      "\n",
      "[1000 rows x 2 columns])\n",
      "(4,          A     B\n",
      "4000  4000  4000\n",
      "4001  4001  4001\n",
      "4002  4002  4002\n",
      "4003  4003  4003\n",
      "4004  4004  4004\n",
      "...    ...   ...\n",
      "4995  4995  4995\n",
      "4996  4996  4996\n",
      "4997  4997  4997\n",
      "4998  4998  4998\n",
      "4999  4999  4999\n",
      "\n",
      "[1000 rows x 2 columns])\n",
      "(5,          A     B\n",
      "5000  5000  5000\n",
      "5001  5001  5001\n",
      "5002  5002  5002\n",
      "5003  5003  5003\n",
      "5004  5004  5004\n",
      "...    ...   ...\n",
      "5995  5995  5995\n",
      "5996  5996  5996\n",
      "5997  5997  5997\n",
      "5998  5998  5998\n",
      "5999  5999  5999\n",
      "\n",
      "[1000 rows x 2 columns])\n",
      "(6,          A     B\n",
      "6000  6000  6000\n",
      "6001  6001  6001\n",
      "6002  6002  6002\n",
      "6003  6003  6003\n",
      "6004  6004  6004\n",
      "...    ...   ...\n",
      "6995  6995  6995\n",
      "6996  6996  6996\n",
      "6997  6997  6997\n",
      "6998  6998  6998\n",
      "6999  6999  6999\n",
      "\n",
      "[1000 rows x 2 columns])\n",
      "(7,          A     B\n",
      "7000  7000  7000\n",
      "7001  7001  7001\n",
      "7002  7002  7002\n",
      "7003  7003  7003\n",
      "7004  7004  7004\n",
      "...    ...   ...\n",
      "7995  7995  7995\n",
      "7996  7996  7996\n",
      "7997  7997  7997\n",
      "7998  7998  7998\n",
      "7999  7999  7999\n",
      "\n",
      "[1000 rows x 2 columns])\n",
      "(8,          A     B\n",
      "8000  8000  8000\n",
      "8001  8001  8001\n",
      "8002  8002  8002\n",
      "8003  8003  8003\n",
      "8004  8004  8004\n",
      "...    ...   ...\n",
      "8995  8995  8995\n",
      "8996  8996  8996\n",
      "8997  8997  8997\n",
      "8998  8998  8998\n",
      "8999  8999  8999\n",
      "\n",
      "[1000 rows x 2 columns])\n",
      "(9,          A     B\n",
      "9000  9000  9000\n",
      "9001  9001  9001\n",
      "9002  9002  9002\n",
      "9003  9003  9003\n",
      "9004  9004  9004\n",
      "...    ...   ...\n",
      "9995  9995  9995\n",
      "9996  9996  9996\n",
      "9997  9997  9997\n",
      "9998  9998  9998\n",
      "9999  9999  9999\n",
      "\n",
      "[1000 rows x 2 columns])\n"
     ]
    }
   ],
   "source": [
    "import pandas as pd\n",
    "\n",
    "# Create sample DataFrame\n",
    "data = {'A': range(10000),\n",
    "        'B': range(10000)}\n",
    "\n",
    "# Process data in chunks\n",
    "chunk_size = 1000\n",
    "for chunk in pd.DataFrame(data).groupby(pd.DataFrame(data).index // chunk_size):\n",
    "    print(chunk)\n"
   ]
  },
  {
   "cell_type": "code",
   "execution_count": 3,
   "metadata": {},
   "outputs": [
    {
     "name": "stdout",
     "output_type": "stream",
     "text": [
      "date_column       datetime64[ns]\n",
      "numeric_column           float32\n",
      "dtype: object\n"
     ]
    }
   ],
   "source": [
    "import pandas as pd\n",
    "\n",
    "# Create sample DataFrame\n",
    "data = {'date_column': ['2022-01-01', '2022-01-02', '2022-01-03'],\n",
    "        'numeric_column': [1.234, 2.345, 3.456]}\n",
    "\n",
    "df = pd.DataFrame(data)\n",
    "\n",
    "# Convert inefficient dtypes\n",
    "df['date_column'] = pd.to_datetime(df['date_column'])\n",
    "df['numeric_column'] = pd.to_numeric(df['numeric_column'], downcast='float')\n",
    "\n",
    "print(df.dtypes)\n"
   ]
  },
  {
   "cell_type": "code",
   "execution_count": 5,
   "metadata": {},
   "outputs": [
    {
     "name": "stdout",
     "output_type": "stream",
     "text": [
      "           B\n",
      "A           \n",
      "0        0.0\n",
      "1        1.0\n",
      "2        2.0\n",
      "3        3.0\n",
      "4        4.0\n",
      "...      ...\n",
      "9995  9995.0\n",
      "9996  9996.0\n",
      "9997  9997.0\n",
      "9998  9998.0\n",
      "9999  9999.0\n",
      "\n",
      "[10000 rows x 1 columns]\n"
     ]
    },
    {
     "name": "stderr",
     "output_type": "stream",
     "text": [
      "c:\\Users\\ASUS\\AppData\\Local\\Programs\\Python\\Python310\\lib\\site-packages\\dask\\dataframe\\__init__.py:42: FutureWarning: \n",
      "Dask dataframe query planning is disabled because dask-expr is not installed.\n",
      "\n",
      "You can install it with `pip install dask[dataframe]` or `conda install dask`.\n",
      "This will raise in a future version.\n",
      "\n",
      "  warnings.warn(msg, FutureWarning)\n"
     ]
    }
   ],
   "source": [
    "import dask.dataframe as dd\n",
    "import pandas as pd\n",
    "\n",
    "# Create sample DataFrame\n",
    "data = {'A': range(10000),\n",
    "        'B': range(10000)}\n",
    "\n",
    "df = pd.DataFrame(data)\n",
    "\n",
    "# Load data using Dask\n",
    "ddf = dd.from_pandas(df, npartitions=4)\n",
    "\n",
    "# Perform parallelized operations\n",
    "result = ddf.groupby('A').mean().compute()\n",
    "print(result)\n"
   ]
  }
 ],
 "metadata": {
  "kernelspec": {
   "display_name": "Python 3",
   "language": "python",
   "name": "python3"
  },
  "language_info": {
   "codemirror_mode": {
    "name": "ipython",
    "version": 3
   },
   "file_extension": ".py",
   "mimetype": "text/x-python",
   "name": "python",
   "nbconvert_exporter": "python",
   "pygments_lexer": "ipython3",
   "version": "3.10.4"
  }
 },
 "nbformat": 4,
 "nbformat_minor": 2
}
