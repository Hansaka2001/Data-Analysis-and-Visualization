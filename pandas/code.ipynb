{
 "cells": [
  {
   "cell_type": "markdown",
   "metadata": {},
   "source": [
    "Pandas for Data Visualization"
   ]
  },
  {
   "cell_type": "markdown",
   "metadata": {},
   "source": [
    "Loading Data into Pandas"
   ]
  },
  {
   "cell_type": "code",
   "execution_count": 1,
   "metadata": {},
   "outputs": [],
   "source": [
    "import pandas as pd\n",
    "\n",
    "data = {\n",
    "    'Column1': [0.039762, 0.937288, 0.780504, 0.672717, 0.053829,\n",
    "                0.845678, 0.123456, 0.987654, 0.543210, 0.876543, \n",
    "                0.234567, 0.654321, 0.345678, 0.789012, 0.456789, \n",
    "                0.723456, 0.234567, 0.876543, 0.123456, 0.543210],\n",
    "    'Column2': [0.218517, 0.041567, 0.008948, 0.247870, 0.520124,\n",
    "                0.354321, 0.678912, 0.012345, 0.789012, 0.345678, \n",
    "                0.901234, 0.234567, 0.345678, 0.456789, 0.567890, \n",
    "                0.189234, 0.456789, 0.012345, 0.901234, 0.345678],\n",
    "    'Column3': [0.103423, 0.899125, 0.557808, 0.264071, 0.552264,\n",
    "                0.789012, 0.456789, 0.123456, 0.234567, 0.345678, \n",
    "                0.567890, 0.678901, 0.789012, 0.890123, 0.901234, \n",
    "                0.612378, 0.345678, 0.765432, 0.234567, 0.876543],\n",
    "    'Column4': [0.957904, 0.977680, 0.797510, 0.444358, 0.190008,\n",
    "                0.876543, 0.234567, 0.345678, 0.456789, 0.567890, \n",
    "                0.678901, 0.789012, 0.890123, 0.901234, 0.123456, \n",
    "                0.876543, 0.901234, 0.543210, 0.876543, 0.123456]\n",
    "}\n",
    "\n",
    "df = pd.DataFrame(data)\n"
   ]
  }
 ],
 "metadata": {
  "kernelspec": {
   "display_name": "Python 3",
   "language": "python",
   "name": "python3"
  },
  "language_info": {
   "codemirror_mode": {
    "name": "ipython",
    "version": 3
   },
   "file_extension": ".py",
   "mimetype": "text/x-python",
   "name": "python",
   "nbconvert_exporter": "python",
   "pygments_lexer": "ipython3",
   "version": "3.10.4"
  }
 },
 "nbformat": 4,
 "nbformat_minor": 2
}
