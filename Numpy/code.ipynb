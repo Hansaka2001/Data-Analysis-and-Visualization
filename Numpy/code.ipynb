{
 "cells": [
  {
   "cell_type": "code",
   "execution_count": 1,
   "metadata": {},
   "outputs": [
    {
     "name": "stdout",
     "output_type": "stream",
     "text": [
      "Requirement already satisfied: numpy in c:\\users\\asus\\appdata\\local\\programs\\python\\python310\\lib\\site-packages (1.26.4)\n",
      "Note: you may need to restart the kernel to use updated packages.\n"
     ]
    },
    {
     "name": "stderr",
     "output_type": "stream",
     "text": [
      "\n",
      "[notice] A new release of pip is available: 24.1 -> 24.2\n",
      "[notice] To update, run: python.exe -m pip install --upgrade pip\n"
     ]
    }
   ],
   "source": [
    "pip install numpy"
   ]
  },
  {
   "cell_type": "markdown",
   "metadata": {},
   "source": [
    "Arrays in Numpy"
   ]
  },
  {
   "cell_type": "code",
   "execution_count": 2,
   "metadata": {},
   "outputs": [
    {
     "name": "stdout",
     "output_type": "stream",
     "text": [
      "Array is of type: <class 'numpy.ndarray'>\n",
      "No. of dimentions: 2\n",
      "Shape of array: (2, 3)\n",
      "Size of array: 6\n",
      "Array stores elements of type: int32\n"
     ]
    }
   ],
   "source": [
    "import numpy as np\n",
    "\n",
    "# creating array object\n",
    "arr = np.array([[1,2,3],[4,6,7]])\n",
    "\n",
    "print(\"Array is of type:\",type(arr))\n",
    "print(\"No. of dimentions:\", arr.ndim)\n",
    "print(\"Shape of array:\", arr.shape)\n",
    "print(\"Size of array:\", arr.size)\n",
    "print(\"Array stores elements of type:\", arr.dtype)\n"
   ]
  },
  {
   "cell_type": "markdown",
   "metadata": {},
   "source": [
    "Numpy Array Creation"
   ]
  },
  {
   "cell_type": "markdown",
   "metadata": {},
   "source": [
    "1. Create NumPy Array with List and Tuple"
   ]
  },
  {
   "cell_type": "code",
   "execution_count": 5,
   "metadata": {},
   "outputs": [
    {
     "name": "stdout",
     "output_type": "stream",
     "text": [
      "Array created using passed List:\n",
      " [[1. 2. 3.]\n",
      " [5. 8. 7.]]\n",
      "\n",
      "Array created using passed tuple:\n",
      " [1 3 2]\n"
     ]
    }
   ],
   "source": [
    "import numpy as np\n",
    "\n",
    "a = np.array([[1,2,3],[5,8,7]], dtype= 'float')\n",
    "print(\"Array created using passed List:\\n\", a)\n",
    "\n",
    "b = np.array((1,3,2))\n",
    "print(\"\\nArray created using passed tuple:\\n\", b)"
   ]
  },
  {
   "cell_type": "markdown",
   "metadata": {},
   "source": [
    "2. Create Array of Fixed Size"
   ]
  },
  {
   "cell_type": "code",
   "execution_count": 8,
   "metadata": {},
   "outputs": [
    {
     "name": "stdout",
     "output_type": "stream",
     "text": [
      "\n",
      "An array initialized with all zeros:\n",
      " [[0. 0. 0. 0.]\n",
      " [0. 0. 0. 0.]\n",
      " [0. 0. 0. 0.]]\n",
      "\n",
      "An array initialized with all 7s. Array type is complex:\n",
      " [[7.+0.j 7.+0.j 7.+0.j]\n",
      " [7.+0.j 7.+0.j 7.+0.j]\n",
      " [7.+0.j 7.+0.j 7.+0.j]]\n",
      "A random array:\n",
      " [[0.55555394 0.0586637 ]\n",
      " [0.0962291  0.44485267]]\n"
     ]
    }
   ],
   "source": [
    "c =  np.zeros((3,4))\n",
    "print(\"\\nAn array initialized with all zeros:\\n\", c)\n",
    "\n",
    "d = np.full((3,3), 7, dtype='complex')\n",
    "print(\"\\nAn array initialized with all 7s. Array type is complex:\\n\", d)\n",
    "\n",
    "e = np.random.random((2,2))\n",
    "print(\"A random array:\\n\", e)"
   ]
  },
  {
   "cell_type": "markdown",
   "metadata": {},
   "source": [
    "3. Create Using arange() Function"
   ]
  },
  {
   "cell_type": "code",
   "execution_count": 12,
   "metadata": {},
   "outputs": [
    {
     "name": "stdout",
     "output_type": "stream",
     "text": [
      "\n",
      "A sequential array with steps of 10:\n",
      " [ 0 10 20 30 40 50]\n"
     ]
    }
   ],
   "source": [
    "f = np.arange(0,60,10)\n",
    "print(\"\\nA sequential array with steps of 10:\\n\", f)\n"
   ]
  },
  {
   "cell_type": "markdown",
   "metadata": {},
   "source": [
    "4. Create Using linspace() Function"
   ]
  },
  {
   "cell_type": "code",
   "execution_count": 13,
   "metadata": {},
   "outputs": [
    {
     "name": "stdout",
     "output_type": "stream",
     "text": [
      "\n",
      "A sequential array with 10 values between 0 and 5:\n",
      " [0.         0.55555556 1.11111111 1.66666667 2.22222222 2.77777778\n",
      " 3.33333333 3.88888889 4.44444444 5.        ]\n"
     ]
    }
   ],
   "source": [
    "g = np.linspace(0,5,10)\n",
    "print(\"\\nA sequential array with 10 values between 0 and 5:\\n\", g)"
   ]
  },
  {
   "cell_type": "markdown",
   "metadata": {},
   "source": [
    "5. Reshaping Array using Reshape Method"
   ]
  },
  {
   "cell_type": "code",
   "execution_count": 14,
   "metadata": {},
   "outputs": [
    {
     "name": "stdout",
     "output_type": "stream",
     "text": [
      "Original array:\n",
      " [[1 2 3 4]\n",
      " [5 2 4 2]\n",
      " [1 2 0 1]]\n",
      "--------\n",
      "Reshaped array:\n",
      " [[[1 2 3]\n",
      "  [4 5 2]]\n",
      "\n",
      " [[4 2 1]\n",
      "  [2 0 1]]]\n"
     ]
    }
   ],
   "source": [
    "arr = np.array([[1,2,3,4],\n",
    "                [5,2,4,2],\n",
    "                [1,2,0,1]])\n",
    "\n",
    "newarr = arr.reshape(2,2,3)\n",
    "\n",
    "print(\"Original array:\\n\", arr)\n",
    "print(\"--------\")\n",
    "print(\"Reshaped array:\\n\", newarr)\n"
   ]
  },
  {
   "cell_type": "markdown",
   "metadata": {},
   "source": [
    "6. Flatten Array"
   ]
  },
  {
   "cell_type": "code",
   "execution_count": 15,
   "metadata": {},
   "outputs": [
    {
     "name": "stdout",
     "output_type": "stream",
     "text": [
      "Original array:\n",
      " [[1 2 3]\n",
      " [4 5 6]]\n",
      "Flattened array:\n",
      " [1 2 3 4 5 6]\n"
     ]
    }
   ],
   "source": [
    "arr = np.array([[1,2,3],\n",
    "                [4,5,6]])\n",
    "flat_arr = arr.flatten()\n",
    "\n",
    "print(\"Original array:\\n\", arr)\n",
    "print(\"Flattened array:\\n\", flat_arr)"
   ]
  },
  {
   "cell_type": "markdown",
   "metadata": {},
   "source": [
    "NumPy Array Indexing\n"
   ]
  },
  {
   "cell_type": "code",
   "execution_count": 16,
   "metadata": {},
   "outputs": [
    {
     "name": "stdout",
     "output_type": "stream",
     "text": [
      "Array with first 2 rows and alternate columns(0 and 2):\n",
      " [[-1.  0.]\n",
      " [ 4.  6.]]\n",
      "\n",
      "Elements at indices (0,3), (1,2), (2,1), (3,0):\n",
      " [4. 6. 8. 3.]\n",
      "\n",
      "Elements greater than 0:\n",
      " [2.  4.  4.  6.  8.  7.  8.  9.  1.8 3.  4.  2. ]\n"
     ]
    }
   ],
   "source": [
    "import numpy as np\n",
    "\n",
    "arr = np.array([ [-1, 2, 0, 4],\n",
    "                [4, -0.5, 6, 8],\n",
    "                [7, 8, 9, 1.8],\n",
    "                [3, -7, 4, 2.0]])\n",
    "\n",
    "temp = arr[:2, ::2]\n",
    "print(\"Array with first 2 rows and alternate columns(0 and 2):\\n\", temp)\n",
    "\n",
    "temp = arr[[0,1,2,3], [3,2,1,0]]\n",
    "print(\"\\nElements at indices (0,3), (1,2), (2,1), (3,0):\\n\", temp)\n",
    "\n",
    "cond = arr > 0\n",
    "temp = arr[cond]\n",
    "print(\"\\nElements greater than 0:\\n\", temp)\n"
   ]
  },
  {
   "cell_type": "markdown",
   "metadata": {},
   "source": [
    "NumPy Basic Operations\n"
   ]
  },
  {
   "cell_type": "code",
   "execution_count": 18,
   "metadata": {},
   "outputs": [
    {
     "name": "stdout",
     "output_type": "stream",
     "text": [
      "Adding 1 to every element: [2 3 6 4]\n",
      "Subtracting 3 from each element: [-2 -1  2  0]\n",
      "Multiplying each element by 5: [ 5 10 25 15]\n",
      "Squaring each element: [ 1  4 25  9]\n",
      "Doubled each element of original array: [ 2  4 10  6]\n",
      "\n",
      "Original array:\n",
      " [[1 2 3]\n",
      " [3 4 5]\n",
      " [9 6 0]]\n",
      "Transpose of array:\n",
      " [[1 3 9]\n",
      " [2 4 6]\n",
      " [3 5 0]]\n"
     ]
    }
   ],
   "source": [
    "# Operations on a single NumPy array\n",
    "\n",
    "import numpy as np\n",
    "\n",
    "a = np.array([1,2,5,3])\n",
    "\n",
    "print(\"Adding 1 to every element:\", a+1)\n",
    "print(\"Subtracting 3 from each element:\", a-3)\n",
    "print(\"Multiplying each element by 5:\", a*5)\n",
    "print(\"Squaring each element:\", a**2)\n",
    "\n",
    "a*=2\n",
    "print(\"Doubled each element of original array:\", a)\n",
    "\n",
    "a = np.array([[1,2,3],[3,4,5],[9,6,0]])\n",
    "\n",
    "print(\"\\nOriginal array:\\n\", a)\n",
    "print(\"Transpose of array:\\n\", a.T)\n",
    "\n"
   ]
  },
  {
   "cell_type": "markdown",
   "metadata": {},
   "source": [
    "NumPy – Unary Operators"
   ]
  },
  {
   "cell_type": "code",
   "execution_count": 19,
   "metadata": {},
   "outputs": [
    {
     "name": "stdout",
     "output_type": "stream",
     "text": [
      "Largest element is: 9\n",
      "Row-wise maximum elements: [6 7 9]\n",
      "Column-wise minimum elements: [1 1 2]\n",
      "Sum of all array elements: 38\n",
      "Cumulative sum along each row:\n",
      " [[ 1  6 12]\n",
      " [ 4 11 13]\n",
      " [ 3  4 13]]\n"
     ]
    }
   ],
   "source": [
    "import numpy as np\n",
    "\n",
    "arr = np.array([[1,5,6],[4,7,2],[3,1,9]])\n",
    "\n",
    "print(\"Largest element is:\", arr.max())\n",
    "print(\"Row-wise maximum elements:\", arr.max(axis=1))\n",
    "\n",
    "print(\"Column-wise minimum elements:\", arr.min(axis=0))\n",
    "\n",
    "print(\"Sum of all array elements:\", arr.sum())\n",
    "\n",
    "print(\"Cumulative sum along each row:\\n\", arr.cumsum(axis=1))"
   ]
  },
  {
   "cell_type": "markdown",
   "metadata": {},
   "source": [
    "NumPy – Binary Operators"
   ]
  },
  {
   "cell_type": "code",
   "execution_count": 20,
   "metadata": {},
   "outputs": [
    {
     "name": "stdout",
     "output_type": "stream",
     "text": [
      "Array sum:\n",
      " [[5 5]\n",
      " [5 5]]\n",
      "Array multiplication:\n",
      " [[4 6]\n",
      " [6 4]]\n",
      "Matrix multiplication:\n",
      " [[ 8  5]\n",
      " [20 13]]\n"
     ]
    }
   ],
   "source": [
    "import numpy as np\n",
    "\n",
    "a = np.array([[1,2],[3,4]])\n",
    "b= np.array([[4,3],[2,1]])\n",
    "\n",
    "print(\"Array sum:\\n\", a+b)\n",
    "print(\"Array multiplication:\\n\", a*b)\n",
    "print(\"Matrix multiplication:\\n\", a.dot(b))\n"
   ]
  },
  {
   "cell_type": "markdown",
   "metadata": {},
   "source": [
    "NymPy’s ufuncs"
   ]
  },
  {
   "cell_type": "code",
   "execution_count": 21,
   "metadata": {},
   "outputs": [
    {
     "name": "stdout",
     "output_type": "stream",
     "text": [
      "Sine values of array elements: [0.0000000e+00 1.0000000e+00 1.2246468e-16]\n",
      "Exponent of array elements: [ 1.          2.71828183  7.3890561  20.08553692]\n",
      "Square root of array elements: [0.         1.         1.41421356 1.73205081]\n"
     ]
    }
   ],
   "source": [
    "import numpy as np\n",
    "\n",
    "a = np.array([0,np.pi/2, np.pi])\n",
    "print(\"Sine values of array elements:\", np.sin(a))\n",
    "\n",
    "a = np.array([0,1,2,3])\n",
    "print(\"Exponent of array elements:\", np.exp(a))\n",
    "\n",
    "print(\"Square root of array elements:\", np.sqrt(a))\n"
   ]
  },
  {
   "cell_type": "markdown",
   "metadata": {},
   "source": [
    "NumPy Sorting Arrays"
   ]
  },
  {
   "cell_type": "code",
   "execution_count": 23,
   "metadata": {},
   "outputs": [
    {
     "name": "stdout",
     "output_type": "stream",
     "text": [
      "Array elements in sorted order:\n",
      " [-1  0  1  2  3  4  4  5  6]\n",
      "Row-wise sorted array:\n",
      " [[ 1  2  4]\n",
      " [ 3  4  6]\n",
      " [-1  0  5]]\n",
      "Column-wise sort by applying merge-sort:\n",
      " [[ 0 -1  2]\n",
      " [ 1  4  5]\n",
      " [ 3  4  6]]\n",
      "\n",
      "Array sorted by names:\n",
      " [(b'Aakash', 2009, 9. ) (b'Amal', 2008, 8.7) (b'Hansa', 2009, 8.5)\n",
      " (b'Pankajith', 2008, 7.9)]\n",
      "Array sorted by grauation year and then cgpa:\n",
      " [(b'Pankajith', 2008, 7.9) (b'Amal', 2008, 8.7) (b'Hansa', 2009, 8.5)\n",
      " (b'Aakash', 2009, 9. )]\n"
     ]
    }
   ],
   "source": [
    "import numpy as np\n",
    "\n",
    "a = np.array([[1,4,2],[3,4,6],[0,-1,5]])\n",
    "\n",
    "print(\"Array elements in sorted order:\\n\", np.sort(a, axis=None))\n",
    "\n",
    "print(\"Row-wise sorted array:\\n\", np.sort(a, axis=1))\n",
    "\n",
    "print(\"Column-wise sort by applying merge-sort:\\n\", np.sort(a, axis=0, kind='mergesort'))\n",
    "\n",
    "dtypes = [('name', 'S10'), ('grad_year', int), ('cgpa', float)]\n",
    "\n",
    "values = [('Hansa', 2009, 8.5), ('Amal', 2008, 8.7), ('Pankajith', 2008, 7.9), ('Aakash', 2009, 9.0)]\n",
    "\n",
    "arr =  np.array(values, dtype=dtypes)\n",
    "print(\"\\nArray sorted by names:\\n\", np.sort(arr, order='name'))\n",
    "\n",
    "print(\"Array sorted by grauation year and then cgpa:\\n\", np.sort(arr, order=['grad_year', 'cgpa']))"
   ]
  }
 ],
 "metadata": {
  "kernelspec": {
   "display_name": "Python 3",
   "language": "python",
   "name": "python3"
  },
  "language_info": {
   "codemirror_mode": {
    "name": "ipython",
    "version": 3
   },
   "file_extension": ".py",
   "mimetype": "text/x-python",
   "name": "python",
   "nbconvert_exporter": "python",
   "pygments_lexer": "ipython3",
   "version": "3.10.4"
  }
 },
 "nbformat": 4,
 "nbformat_minor": 2
}
